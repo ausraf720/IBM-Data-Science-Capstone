{
 "cells": [
  {
   "cell_type": "code",
   "execution_count": 1,
   "id": "eacf20ff",
   "metadata": {},
   "outputs": [],
   "source": [
    "import pandas as pd\n",
    "import plotly.express as px\n",
    "import dash\n",
    "import matplotlib.pyplot as plt\n",
    "import wget\n",
    "\n",
    "from dash.dependencies import Input, Output, State\n",
    "from jupyter_dash import JupyterDash\n",
    "import plotly.graph_objects as go\n",
    "import plotly.express as px\n",
    "from dash import no_update\n",
    "from dash import html\n",
    "from dash import dcc "
   ]
  },
  {
   "cell_type": "code",
   "execution_count": 2,
   "id": "3b7ba27c",
   "metadata": {},
   "outputs": [
    {
     "name": "stdout",
     "output_type": "stream",
     "text": [
      "100% [................................................................................] 2476 / 2476"
     ]
    }
   ],
   "source": [
    "\n",
    "# Read the spacex data into pandas dataframe\n",
    "url = \"https://cf-courses-data.s3.us.cloud-object-storage.appdomain.cloud/IBM-DS0321EN-SkillsNetwork/datasets/spacex_launch_dash.csv\"\n",
    "dataset = wget.download(url)\n",
    "spacex_df = pd.read_csv(dataset)\n",
    "\n",
    "\n",
    "\n"
   ]
  },
  {
   "cell_type": "code",
   "execution_count": 3,
   "id": "afa8ded3",
   "metadata": {},
   "outputs": [
    {
     "data": {
      "text/plain": [
       "Unnamed: 0                    int64\n",
       "Flight Number                 int64\n",
       "Launch Site                  object\n",
       "class                         int64\n",
       "Payload Mass (kg)           float64\n",
       "Booster Version              object\n",
       "Booster Version Category     object\n",
       "dtype: object"
      ]
     },
     "execution_count": 3,
     "metadata": {},
     "output_type": "execute_result"
    }
   ],
   "source": [
    "spacex_df.dtypes"
   ]
  },
  {
   "cell_type": "code",
   "execution_count": 4,
   "id": "24d010d3",
   "metadata": {},
   "outputs": [
    {
     "data": {
      "text/html": [
       "\n",
       "        <iframe\n",
       "            width=\"100%\"\n",
       "            height=\"650\"\n",
       "            src=\"http://127.0.0.1:8050/\"\n",
       "            frameborder=\"0\"\n",
       "            allowfullscreen\n",
       "            \n",
       "        ></iframe>\n",
       "        "
      ],
      "text/plain": [
       "<IPython.lib.display.IFrame at 0x17589bd1970>"
      ]
     },
     "metadata": {},
     "output_type": "display_data"
    }
   ],
   "source": [
    "app = JupyterDash(__name__)\n",
    "\n",
    "# marker_points will be a dictionary to be used for marks on the App's RangeSlider\n",
    "marker_points = {}\n",
    "for i in range(10):\n",
    "    marker_points[i*1000] = str(i*1000)\n",
    "    \n",
    "\"\"\"\n",
    "Here the app layout is created, with title, a division for choosing the site location,\n",
    "    a division for showing a pie chart for success rates at that site,\n",
    "    a division for selecting a range of payload (from 0 to 10,000 kg),\n",
    "    and a division for showing a scatter plot for comparing a launch's payload to if it was successful\n",
    "    \n",
    "*NOTE that class = 1 means successful, and class = 0 means unsuccesful\n",
    "\n",
    "\"\"\"\n",
    "\n",
    "app.layout = html.Div(children=[html.H1(\"SpaceX Launch Records Dashboard\", style={'text-align': 'center'}),\n",
    "                                html.Div(dcc.Dropdown(id='site-dropdown',\n",
    "                                    options=[\n",
    "                                        {'label': 'All Sites', 'value': 'ALL'},\n",
    "                                        {'label': 'CCAFS LC-40', 'value': 'CCAFS LC-40'},\n",
    "                                        {'label': 'VAFB SLC-4E', 'value': 'VAFB SLC-4E'},\n",
    "                                        {'label': 'KSC LC-39A', 'value': 'KSC LC-39A'},                                        \n",
    "                                        {'label': 'CCAFS SLC-40', 'value': 'CCAFS SLC-40'},\n",
    "                                        ],\n",
    "                                    value='ALL',\n",
    "                                    placeholder=\"Select a Launch Site here\",\n",
    "                                    searchable=True\n",
    "                                               )\n",
    "                                        ),\n",
    "                                html.Div(dcc.Graph(id='success-pie-chart')),\n",
    "                                \n",
    "                                html.Div(dcc.RangeSlider(id='payload-slider',\n",
    "                                    min=0, max=10000, step=1000,\n",
    "                                    marks=marker_points,\n",
    "                                    value=[0, 10000])\n",
    "                                        ),       \n",
    "                                html.Div(dcc.Graph(id=\"scatter-chart\")),\n",
    "                                ])\n",
    "\n",
    "#This first function is for creating the pie chart\n",
    "\n",
    "@app.callback(Output(component_id='success-pie-chart', component_property='figure'),\n",
    "              Input(component_id='site-dropdown', component_property='value'))\n",
    "def get_pie_chart(entered_site):\n",
    "\n",
    "    #Here if 'ALL' is chosen for site location, the figure will compare success rates between sites\n",
    "    \n",
    "    if entered_site == 'ALL':\n",
    "        fig = px.pie(spacex_df, values='class', names='Launch Site', \n",
    "            title='Total Successful Launches by Site')\n",
    "        return fig   \n",
    "    \n",
    "    #If a site is chosen instead, the pie chart will show the ratio between successful and unsuccesful launches \n",
    "    else:\n",
    "        filtered_df = spacex_df.loc[spacex_df['Launch Site'] == entered_site]      \n",
    "        fig = px.pie(filtered_df, names='class', \n",
    "            title=entered_site + ' success rate')\n",
    "        return fig \n",
    "    \n",
    "    \n",
    "#This next function is for creating the scatter plot\n",
    "\n",
    "@app.callback(Output(component_id='scatter-chart', component_property='figure'), \n",
    "               Input(component_id=\"payload-slider\", component_property=\"value\"),\n",
    "                Input(component_id='site-dropdown', component_property='value'))\n",
    "              \n",
    "def get_scatter(payload_vals, entered_site):\n",
    "    \n",
    "    #This time the dataframe used for the graphs is restricted depending on the input of the range slider\n",
    "    \n",
    "    low_df = spacex_df.loc[(spacex_df['Payload Mass (kg)'] > payload_vals[0])]\n",
    "    high_df = low_df.loc[(spacex_df['Payload Mass (kg)'] < payload_vals[1])]\n",
    "    \n",
    "    \n",
    "    #This code is similar to that used in the get_pie_chart function, 'ALL' compares all site locations to each other\n",
    "    if entered_site == 'ALL':\n",
    "        final_df = high_df\n",
    "        fig = px.scatter(final_df, y=\"class\", x=\"Payload Mass (kg)\", color=\"Booster Version\")\n",
    "        return fig\n",
    "    \n",
    "    #Likewise, when a particular site is selected, successful to unsuccessful launches will be compared based on payload\n",
    "    else:\n",
    "        filtered_df = high_df.loc[spacex_df['Launch Site'] == entered_site] \n",
    "        final_df = filtered_df\n",
    "        fig = px.scatter(final_df, y=\"class\", x=\"Payload Mass (kg)\", color=\"Booster Version\")\n",
    "        return fig\n",
    "\n",
    "#Run the app\n",
    "if __name__ == '__main__':\n",
    "    app.run_server(mode='inline')"
   ]
  }
 ],
 "metadata": {
  "kernelspec": {
   "display_name": "Python 3 (ipykernel)",
   "language": "python",
   "name": "python3"
  },
  "language_info": {
   "codemirror_mode": {
    "name": "ipython",
    "version": 3
   },
   "file_extension": ".py",
   "mimetype": "text/x-python",
   "name": "python",
   "nbconvert_exporter": "python",
   "pygments_lexer": "ipython3",
   "version": "3.9.12"
  }
 },
 "nbformat": 4,
 "nbformat_minor": 5
}
